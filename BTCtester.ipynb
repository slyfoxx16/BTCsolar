{
 "cells": [
  {
   "cell_type": "code",
   "execution_count": 1,
   "metadata": {},
   "outputs": [],
   "source": [
    "# Packages\n",
    "import requests, json, os\n",
    "import datetime as dt\n",
    "import pickle as pkl\n",
    "\n",
    "# Custom Packages\n",
    "import BTCdata\n",
    "import BTCassistant\n",
    "\n",
    "##################################################################\n",
    "##################### Default is no new data #####################\n",
    "##################################################################\n",
    "NewData = True\n"
   ]
  },
  {
   "cell_type": "markdown",
   "metadata": {},
   "source": [
    "### BTC Data Archiver"
   ]
  },
  {
   "cell_type": "markdown",
   "metadata": {},
   "source": [
    "Archive BTC Data"
   ]
  },
  {
   "cell_type": "code",
   "execution_count": 2,
   "metadata": {},
   "outputs": [],
   "source": [
    "if NewData == True:\n",
    "\t# Get Block Data (10 mins for 1 month of data)\n",
    "\tstart = \"2021-01-01\"\n",
    "\tend= \"2022-01-01\"\n",
    "\tblock_list = BTCassistant.archiveBTCdata(start,end)"
   ]
  },
  {
   "cell_type": "code",
   "execution_count": 7,
   "metadata": {},
   "outputs": [],
   "source": [
    "pkl_file = open('HistData/HistBTCdata.pkl', 'rb')\n",
    "hist_data = pkl.load(pkl_file)\n",
    "pkl_file.close()"
   ]
  },
  {
   "cell_type": "markdown",
   "metadata": {},
   "source": [
    "### Difficulty Calculation"
   ]
  },
  {
   "cell_type": "code",
   "execution_count": 8,
   "metadata": {},
   "outputs": [
    {
     "data": {
      "text/plain": [
       "[<BTCdata.BTCblock at 0x1d988a706d0>,\n",
       " <BTCdata.BTCblock at 0x1d9889e98d0>,\n",
       " <BTCdata.BTCblock at 0x1d98a1afa30>,\n",
       " <BTCdata.BTCblock at 0x1d98a1ae650>,\n",
       " <BTCdata.BTCblock at 0x1d989ce66e0>,\n",
       " <BTCdata.BTCblock at 0x1d9889f7250>,\n",
       " <BTCdata.BTCblock at 0x1d989d8bac0>,\n",
       " <BTCdata.BTCblock at 0x1d989d8b4f0>,\n",
       " <BTCdata.BTCblock at 0x1d989d8a320>,\n",
       " <BTCdata.BTCblock at 0x1d989d8b7f0>,\n",
       " <BTCdata.BTCblock at 0x1d989d8bbb0>,\n",
       " <BTCdata.BTCblock at 0x1d989d8b400>,\n",
       " <BTCdata.BTCblock at 0x1d989dca170>,\n",
       " <BTCdata.BTCblock at 0x1d989dcaa70>,\n",
       " <BTCdata.BTCblock at 0x1d989dcae30>,\n",
       " <BTCdata.BTCblock at 0x1d989dc9a20>,\n",
       " <BTCdata.BTCblock at 0x1d989dc8d90>,\n",
       " <BTCdata.BTCblock at 0x1d989ce66b0>,\n",
       " <BTCdata.BTCblock at 0x1d988b3a470>,\n",
       " <BTCdata.BTCblock at 0x1d989d8b4c0>,\n",
       " <BTCdata.BTCblock at 0x1d989d8bbe0>,\n",
       " <BTCdata.BTCblock at 0x1d989d8b6a0>,\n",
       " <BTCdata.BTCblock at 0x1d989d8b010>,\n",
       " <BTCdata.BTCblock at 0x1d989d8ab30>,\n",
       " <BTCdata.BTCblock at 0x1d989d8a4d0>,\n",
       " <BTCdata.BTCblock at 0x1d989d8a0b0>,\n",
       " <BTCdata.BTCblock at 0x1d988622fb0>,\n",
       " <BTCdata.BTCblock at 0x1d989dcb940>,\n",
       " <BTCdata.BTCblock at 0x1d989dc9fc0>,\n",
       " <BTCdata.BTCblock at 0x1d989dcbc10>,\n",
       " <BTCdata.BTCblock at 0x1d989dcb4f0>,\n",
       " <BTCdata.BTCblock at 0x1d989dcaf50>,\n",
       " <BTCdata.BTCblock at 0x1d989dca7a0>,\n",
       " <BTCdata.BTCblock at 0x1d989dca1a0>,\n",
       " <BTCdata.BTCblock at 0x1d989dc9bd0>,\n",
       " <BTCdata.BTCblock at 0x1d989dc92a0>,\n",
       " <BTCdata.BTCblock at 0x1d989dc8dc0>,\n",
       " <BTCdata.BTCblock at 0x1d989dc8910>,\n",
       " <BTCdata.BTCblock at 0x1d989dc8370>,\n",
       " <BTCdata.BTCblock at 0x1d989dca410>,\n",
       " <BTCdata.BTCblock at 0x1d989dcb3d0>,\n",
       " <BTCdata.BTCblock at 0x1d989dc8430>,\n",
       " <BTCdata.BTCblock at 0x1d989dc9c00>,\n",
       " <BTCdata.BTCblock at 0x1d989dc8340>,\n",
       " <BTCdata.BTCblock at 0x1d989dcb1f0>,\n",
       " <BTCdata.BTCblock at 0x1d989dc98d0>,\n",
       " <BTCdata.BTCblock at 0x1d989dcb100>,\n",
       " <BTCdata.BTCblock at 0x1d989dc9660>,\n",
       " <BTCdata.BTCblock at 0x1d989dcb730>,\n",
       " <BTCdata.BTCblock at 0x1da1c54e9b0>,\n",
       " <BTCdata.BTCblock at 0x1da1c54e770>,\n",
       " <BTCdata.BTCblock at 0x1da1c54e530>,\n",
       " <BTCdata.BTCblock at 0x1da1c54db70>,\n",
       " <BTCdata.BTCblock at 0x1da1c54d4e0>,\n",
       " <BTCdata.BTCblock at 0x1da1c54cf40>,\n",
       " <BTCdata.BTCblock at 0x1da1c54c9a0>,\n",
       " <BTCdata.BTCblock at 0x1da1c54c310>,\n",
       " <BTCdata.BTCblock at 0x1da1c54e6b0>,\n",
       " <BTCdata.BTCblock at 0x1da1c54c8b0>,\n",
       " <BTCdata.BTCblock at 0x1da1c54d000>,\n",
       " <BTCdata.BTCblock at 0x1da1c54e2c0>,\n",
       " <BTCdata.BTCblock at 0x1da1c54c790>,\n",
       " <BTCdata.BTCblock at 0x1da1c54d690>,\n",
       " <BTCdata.BTCblock at 0x1da1c54c970>,\n",
       " <BTCdata.BTCblock at 0x1da1c54e110>,\n",
       " <BTCdata.BTCblock at 0x1da1c54e350>,\n",
       " <BTCdata.BTCblock at 0x1da1c54d0f0>,\n",
       " <BTCdata.BTCblock at 0x1da1c54e860>,\n",
       " <BTCdata.BTCblock at 0x1da1c54e9e0>,\n",
       " <BTCdata.BTCblock at 0x1da1c54db40>,\n",
       " <BTCdata.BTCblock at 0x1da1c54e050>,\n",
       " <BTCdata.BTCblock at 0x1da1c54e1a0>,\n",
       " <BTCdata.BTCblock at 0x1da1c54e320>,\n",
       " <BTCdata.BTCblock at 0x1da1c54e620>,\n",
       " <BTCdata.BTCblock at 0x1da1c54ead0>,\n",
       " <BTCdata.BTCblock at 0x1da1c54ebc0>,\n",
       " <BTCdata.BTCblock at 0x1da1c54ecb0>,\n",
       " <BTCdata.BTCblock at 0x1da1c54eda0>,\n",
       " <BTCdata.BTCblock at 0x1da1c54ee90>,\n",
       " <BTCdata.BTCblock at 0x1da1c54ef80>,\n",
       " <BTCdata.BTCblock at 0x1da1c54f070>,\n",
       " <BTCdata.BTCblock at 0x1da1c54f160>,\n",
       " <BTCdata.BTCblock at 0x1da1c54f250>,\n",
       " <BTCdata.BTCblock at 0x1da1c54f340>,\n",
       " <BTCdata.BTCblock at 0x1da1c54f430>,\n",
       " <BTCdata.BTCblock at 0x1da1c54f520>,\n",
       " <BTCdata.BTCblock at 0x1da1c54f610>,\n",
       " <BTCdata.BTCblock at 0x1da1c54f700>,\n",
       " <BTCdata.BTCblock at 0x1da1c54f7f0>,\n",
       " <BTCdata.BTCblock at 0x1da1c54f8e0>,\n",
       " <BTCdata.BTCblock at 0x1da1c54f9d0>,\n",
       " <BTCdata.BTCblock at 0x1da1c54fac0>,\n",
       " <BTCdata.BTCblock at 0x1da1c54fbb0>,\n",
       " <BTCdata.BTCblock at 0x1da1c54fca0>,\n",
       " <BTCdata.BTCblock at 0x1da1c54fd90>,\n",
       " <BTCdata.BTCblock at 0x1da1c54fe80>,\n",
       " <BTCdata.BTCblock at 0x1da1c54ff70>,\n",
       " <BTCdata.BTCblock at 0x1daa07f80a0>,\n",
       " <BTCdata.BTCblock at 0x1daa07f8190>,\n",
       " <BTCdata.BTCblock at 0x1daa07f8280>,\n",
       " <BTCdata.BTCblock at 0x1daa07f8370>,\n",
       " <BTCdata.BTCblock at 0x1daa07f8460>,\n",
       " <BTCdata.BTCblock at 0x1daa07f8550>,\n",
       " <BTCdata.BTCblock at 0x1daa07f8640>,\n",
       " <BTCdata.BTCblock at 0x1daa07f8730>,\n",
       " <BTCdata.BTCblock at 0x1daa07f8820>,\n",
       " <BTCdata.BTCblock at 0x1daa07f8910>,\n",
       " <BTCdata.BTCblock at 0x1daa07f8a00>,\n",
       " <BTCdata.BTCblock at 0x1daa07f8af0>,\n",
       " <BTCdata.BTCblock at 0x1daa07f8be0>,\n",
       " <BTCdata.BTCblock at 0x1daa07f8cd0>,\n",
       " <BTCdata.BTCblock at 0x1daa07f8dc0>,\n",
       " <BTCdata.BTCblock at 0x1daa07f8eb0>,\n",
       " <BTCdata.BTCblock at 0x1daa07f8fa0>,\n",
       " <BTCdata.BTCblock at 0x1daa07f9090>,\n",
       " <BTCdata.BTCblock at 0x1daa07f9180>,\n",
       " <BTCdata.BTCblock at 0x1daa07f9270>,\n",
       " <BTCdata.BTCblock at 0x1daa07f9360>,\n",
       " <BTCdata.BTCblock at 0x1daa07f9450>,\n",
       " <BTCdata.BTCblock at 0x1daa07f9540>,\n",
       " <BTCdata.BTCblock at 0x1daa07f9630>,\n",
       " <BTCdata.BTCblock at 0x1daa07f9720>,\n",
       " <BTCdata.BTCblock at 0x1daa07f9810>,\n",
       " <BTCdata.BTCblock at 0x1daa07f9900>,\n",
       " <BTCdata.BTCblock at 0x1daa07f99f0>,\n",
       " <BTCdata.BTCblock at 0x1daa07f9ae0>,\n",
       " <BTCdata.BTCblock at 0x1daa07f9bd0>,\n",
       " <BTCdata.BTCblock at 0x1daa07f9cc0>,\n",
       " <BTCdata.BTCblock at 0x1daa07f9db0>,\n",
       " <BTCdata.BTCblock at 0x1daa07f9ea0>,\n",
       " <BTCdata.BTCblock at 0x1daa07f9f90>,\n",
       " <BTCdata.BTCblock at 0x1daa07fa080>,\n",
       " <BTCdata.BTCblock at 0x1daa07fa170>,\n",
       " <BTCdata.BTCblock at 0x1daa07fa260>,\n",
       " <BTCdata.BTCblock at 0x1daa07fa350>,\n",
       " <BTCdata.BTCblock at 0x1daa07fa440>,\n",
       " <BTCdata.BTCblock at 0x1daa07fa530>,\n",
       " <BTCdata.BTCblock at 0x1daa07fa620>,\n",
       " <BTCdata.BTCblock at 0x1daa07fa710>,\n",
       " <BTCdata.BTCblock at 0x1daa07fa800>,\n",
       " <BTCdata.BTCblock at 0x1daa07fa8f0>,\n",
       " <BTCdata.BTCblock at 0x1daa07fa9e0>,\n",
       " <BTCdata.BTCblock at 0x1daa07faad0>,\n",
       " <BTCdata.BTCblock at 0x1daa07fabc0>,\n",
       " <BTCdata.BTCblock at 0x1daa07facb0>,\n",
       " <BTCdata.BTCblock at 0x1daa07fada0>,\n",
       " <BTCdata.BTCblock at 0x1daa07fae90>,\n",
       " <BTCdata.BTCblock at 0x1daa07faf80>,\n",
       " <BTCdata.BTCblock at 0x1daa07fb070>,\n",
       " <BTCdata.BTCblock at 0x1daa07fb160>,\n",
       " <BTCdata.BTCblock at 0x1daa07fb220>,\n",
       " <BTCdata.BTCblock at 0x1daa07fb340>,\n",
       " <BTCdata.BTCblock at 0x1daa07fb430>,\n",
       " <BTCdata.BTCblock at 0x1daa07fb520>,\n",
       " <BTCdata.BTCblock at 0x1daa07fb610>,\n",
       " <BTCdata.BTCblock at 0x1daa07fb700>,\n",
       " <BTCdata.BTCblock at 0x1daa07fb7f0>,\n",
       " <BTCdata.BTCblock at 0x1daa07fb8e0>,\n",
       " <BTCdata.BTCblock at 0x1daa07fb9d0>,\n",
       " <BTCdata.BTCblock at 0x1daa07fbac0>]"
      ]
     },
     "execution_count": 8,
     "metadata": {},
     "output_type": "execute_result"
    }
   ],
   "source": [
    "hist_data"
   ]
  },
  {
   "cell_type": "code",
   "execution_count": null,
   "metadata": {},
   "outputs": [],
   "source": [
    "hist_data"
   ]
  },
  {
   "cell_type": "code",
   "execution_count": 6,
   "metadata": {},
   "outputs": [],
   "source": [
    "with open('HistData/HistBTCdata.pkl', 'wb') as f:\n",
    "\tpkl.dump(hist_data, f)"
   ]
  },
  {
   "cell_type": "code",
   "execution_count": 5,
   "metadata": {},
   "outputs": [],
   "source": [
    "output = open('HistData/HistBTCdata.pkl', 'wb')\n",
    "pkl.dump(hist_data, output)\n",
    "output.close()"
   ]
  },
  {
   "cell_type": "code",
   "execution_count": null,
   "metadata": {},
   "outputs": [],
   "source": [
    "response = requests.get(f\"https://blockchain.info/latestblock\")\n",
    "current = json.loads(response.text)\n",
    "blk = BTCdata.BTCblock(current['hash'],full_info=True)\n",
    "blk.estimate_difficulty()"
   ]
  },
  {
   "cell_type": "code",
   "execution_count": null,
   "metadata": {},
   "outputs": [],
   "source": [
    "current['hash']"
   ]
  },
  {
   "cell_type": "code",
   "execution_count": null,
   "metadata": {},
   "outputs": [],
   "source": [
    "import hashlib\n",
    "sha = hashlib.sha256()\n",
    "sha.update(current['hash'].encode())\n",
    "sha.hexdigest()"
   ]
  },
  {
   "cell_type": "code",
   "execution_count": null,
   "metadata": {},
   "outputs": [],
   "source": [
    "sha.update(current['hash'].encode())\n",
    "sha.hexdigest()"
   ]
  },
  {
   "cell_type": "code",
   "execution_count": null,
   "metadata": {},
   "outputs": [],
   "source": [
    "sha.hexdigest()"
   ]
  },
  {
   "cell_type": "code",
   "execution_count": null,
   "metadata": {},
   "outputs": [],
   "source": [
    "MAX_TARGET = 0x00000000FFFF0000000000000000000000000000000000000000000000000000\n",
    "MAX_TARGET"
   ]
  },
  {
   "cell_type": "code",
   "execution_count": null,
   "metadata": {},
   "outputs": [],
   "source": []
  },
  {
   "cell_type": "code",
   "execution_count": null,
   "metadata": {},
   "outputs": [],
   "source": []
  }
 ],
 "metadata": {
  "kernelspec": {
   "display_name": "Python 3.9.12 ('BTCsolar')",
   "language": "python",
   "name": "python3"
  },
  "language_info": {
   "codemirror_mode": {
    "name": "ipython",
    "version": 3
   },
   "file_extension": ".py",
   "mimetype": "text/x-python",
   "name": "python",
   "nbconvert_exporter": "python",
   "pygments_lexer": "ipython3",
   "version": "3.9.12"
  },
  "orig_nbformat": 4,
  "vscode": {
   "interpreter": {
    "hash": "88aea04b1d4a8a4b6539bceaf015f45ecbf8cddf5607d129cc8b4b46b5839a77"
   }
  }
 },
 "nbformat": 4,
 "nbformat_minor": 2
}
