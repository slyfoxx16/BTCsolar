{
 "cells": [
  {
   "attachments": {},
   "cell_type": "markdown",
   "metadata": {},
   "source": [
    "# BTC Solar Solver\n"
   ]
  },
  {
   "cell_type": "code",
   "execution_count": null,
   "metadata": {},
   "outputs": [],
   "source": [
    "# Custom Modules\n",
    "import SolarSimulator\n",
    "\n",
    "\n",
    "# House Info\n",
    "pv_system_info = {'location':{\n",
    "\t\t'lat':33.392,\n",
    "\t\t'lon':-111.921},\n",
    "\t'specs':{\n",
    "\t\t'array_type':1,\n",
    "\t\t'azimuth':180,\n",
    "\t\t'tilt':28.7,\n",
    "\t\t'losses':1}}"
   ]
  },
  {
   "cell_type": "code",
   "execution_count": 3,
   "metadata": {},
   "outputs": [
    {
     "ename": "ModuleNotFoundError",
     "evalue": "No module named 'PySAM'",
     "output_type": "error",
     "traceback": [
      "\u001b[0;31m---------------------------------------------------------------------------\u001b[0m",
      "\u001b[0;31mModuleNotFoundError\u001b[0m                       Traceback (most recent call last)",
      "Cell \u001b[0;32mIn[3], line 5\u001b[0m\n\u001b[1;32m      3\u001b[0m \u001b[39mimport\u001b[39;00m \u001b[39mpandas\u001b[39;00m \u001b[39mas\u001b[39;00m \u001b[39mpd\u001b[39;00m\n\u001b[1;32m      4\u001b[0m \u001b[39mimport\u001b[39;00m \u001b[39mnumpy\u001b[39;00m \u001b[39mas\u001b[39;00m \u001b[39mnp\u001b[39;00m\n\u001b[0;32m----> 5\u001b[0m \u001b[39mimport\u001b[39;00m \u001b[39mPySAM\u001b[39;00m\u001b[39m.\u001b[39;00m\u001b[39mPvwattsv7\u001b[39;00m \u001b[39mas\u001b[39;00m \u001b[39mPvwatts\u001b[39;00m\n\u001b[1;32m      6\u001b[0m \u001b[39mimport\u001b[39;00m \u001b[39mrequests\u001b[39;00m\n\u001b[1;32m      8\u001b[0m \u001b[39m# Latitude and longitude of location\u001b[39;00m\n",
      "\u001b[0;31mModuleNotFoundError\u001b[0m: No module named 'PySAM'"
     ]
    }
   ],
   "source": [
    "import os\n",
    "from datetime import datetime\n",
    "import pandas as pd\n",
    "import numpy as np\n",
    "import PySAM.Pvwattsv7 as Pvwatts\n",
    "import requests\n",
    "\n",
    "# Latitude and longitude of location\n",
    "latitude = 40.71\n",
    "longitude = -74.01\n",
    "\n",
    "# NSRDB API key\n",
    "nsrdb_api_key = 'bfpWE6iufkhWFk9DfN1G7M4FYeUIlWNp3MCOaQ2Z'\n",
    "\n",
    "# System specifications\n",
    "system_capacity = 10  # kW\n",
    "module = 'Canadian_Solar_CS5P_220M___2009_'\n",
    "inverter = 'SMA_America__SC800CP_US__240V_'\n",
    "\n",
    "# Dates for simulation\n",
    "start_date = pd.Timestamp('2022-01-01', tz='America/New_York')\n",
    "end_date = pd.Timestamp('2022-12-31', tz='America/New_York')\n",
    "times = pd.date_range(start=start_date, end=end_date, closed='left', freq='H')\n",
    "\n",
    "# Fetch weather data from NSRDB API\n",
    "nsrdb_url = f'https://developer.nrel.gov/api/solar/nsrdb_v2.json?api_key={nsrdb_api_key}&lat={latitude}&lon={longitude}&attributes=dhi,dni,ghi,temp_air,wspd'\n",
    "response = requests.get(nsrdb_url)\n",
    "data = response.json()['outputs']['hourly']\n",
    "weather = pd.DataFrame(data)\n",
    "weather.index = pd.to_datetime(weather['timestamp'], utc=True).dt.tz_convert('America/New_York')\n",
    "\n",
    "# PySAM model object\n",
    "model = Pvwatts.default(\"Pvwattsv7\")\n",
    "model.SolarResource.solar_resource_data = weather[['dhi', 'dni', 'ghi', 'temp_air', 'wspd']]\n",
    "model.SolarResource.tilt = 0\n",
    "model.SolarResource.azimuth = 180\n",
    "model.SolarResource.solar_resource_model_choice = 0\n",
    "model.SolarResource.system_capacity = system_capacity\n",
    "model.Module.module_model = module\n",
    "model.Inverter.inverter_model = inverter\n",
    "model.Inverter.mppt_low_inverter = 0\n",
    "model.Inverter.mppt_high_inverter = system_capacity\n",
    "model.Inverter.inverter_efficiency = 0.96\n",
    "model.execute()"
   ]
  }
 ],
 "metadata": {
  "kernelspec": {
   "display_name": "Python 3.10.4 ('BTCsolar')",
   "language": "python",
   "name": "python3"
  },
  "language_info": {
   "codemirror_mode": {
    "name": "ipython",
    "version": 3
   },
   "file_extension": ".py",
   "mimetype": "text/x-python",
   "name": "python",
   "nbconvert_exporter": "python",
   "pygments_lexer": "ipython3",
   "version": "3.10.9"
  },
  "orig_nbformat": 4,
  "vscode": {
   "interpreter": {
    "hash": "88aea04b1d4a8a4b6539bceaf015f45ecbf8cddf5607d129cc8b4b46b5839a77"
   }
  }
 },
 "nbformat": 4,
 "nbformat_minor": 2
}
