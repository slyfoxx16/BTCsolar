{
 "cells": [
  {
   "attachments": {},
   "cell_type": "markdown",
   "metadata": {},
   "source": [
    "# BTC Solar Solver\n"
   ]
  },
  {
   "cell_type": "code",
   "execution_count": 1,
   "metadata": {},
   "outputs": [
    {
     "name": "stdout",
     "output_type": "stream",
     "text": [
      "OSolving for Optimal Solar System\n",
      "Target kWh: 11589.48\n",
      "\n",
      "Starting data download for solar using 1 thread workers.\n",
      "File already exists. Skipping download: /home/carlos/Documents/GitHub/BTCsolar/data/PySAM Downloaded Weather Files/nsrdb_38.897957_-77.03656_psm3-tmy_60_tmy.csv\n",
      "\n",
      "Starting data download for solar using 1 thread workers.\n",
      "File already exists. Skipping download: /home/carlos/Documents/GitHub/BTCsolar/data/PySAM Downloaded Weather Files/nsrdb_38.897957_-77.03656_psm3-tmy_60_tmy.csv\n",
      "Optimal Solar Capacity (kW): ac=4:dc=11\n",
      "Output with best parameters: 11732.14413535751\n"
     ]
    },
    {
     "data": {
      "text/plain": [
       "(4, 11)"
      ]
     },
     "execution_count": 1,
     "metadata": {},
     "output_type": "execute_result"
    }
   ],
   "source": [
    "import BTCminer\n",
    "\n",
    "# PV System Info\n",
    "pv_system = {'location':{\n",
    "\t\t'lat':38.897957,\n",
    "\t\t'lon':-77.036560},\n",
    "\t'specs':{\n",
    "\t\t'array_type':1, # Fixed axis\n",
    "\t\t'azimuth':180,\n",
    "\t\t'tilt':28.7,\n",
    "\t\t'losses':1}}\n",
    "\n",
    "# NREL API\n",
    "nrel_api_key = 'API'\n",
    "nrel_api_email= 'name@email.com'\n",
    "\n",
    "# Initialize Miner\n",
    "antminer_s9 = BTCminer.BTCminer(13.5, 1323)\n",
    "antminer_s9.fit_solar(pv_system, nrel_api_key, nrel_api_email, 100)"
   ]
  }
 ],
 "metadata": {
  "kernelspec": {
   "display_name": "Python 3.10.4 ('BTCsolar')",
   "language": "python",
   "name": "python3"
  },
  "language_info": {
   "codemirror_mode": {
    "name": "ipython",
    "version": 3
   },
   "file_extension": ".py",
   "mimetype": "text/x-python",
   "name": "python",
   "nbconvert_exporter": "python",
   "pygments_lexer": "ipython3",
   "version": "3.10.9"
  },
  "orig_nbformat": 4,
  "vscode": {
   "interpreter": {
    "hash": "88aea04b1d4a8a4b6539bceaf015f45ecbf8cddf5607d129cc8b4b46b5839a77"
   }
  }
 },
 "nbformat": 4,
 "nbformat_minor": 2
}
