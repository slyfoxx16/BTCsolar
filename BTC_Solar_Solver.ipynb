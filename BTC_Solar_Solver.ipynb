{
 "cells": [
  {
   "attachments": {},
   "cell_type": "markdown",
   "metadata": {},
   "source": [
    "# BTC Solar Solver\n"
   ]
  },
  {
   "cell_type": "code",
   "execution_count": 25,
   "metadata": {},
   "outputs": [
    {
     "name": "stdout",
     "output_type": "stream",
     "text": [
      "\n",
      "Starting data download for solar using 1 thread workers.\n",
      "File already exists. Skipping download: /home/carlos/Documents/GitHub/BTCsolar/data/PySAM Downloaded Weather Files/nsrdb_38.897957_-77.03656_psm3-tmy_60_tmy.csv\n"
     ]
    },
    {
     "data": {
      "text/plain": [
       "{'spec': 'r7|7',\n",
       " 'shape':       Month  Day  Hour  solar\n",
       " 0         1    1     0    0.0\n",
       " 1         1    1     1    0.0\n",
       " 2         1    1     2    0.0\n",
       " 3         1    1     3    0.0\n",
       " 4         1    1     4    0.0\n",
       " ...     ...  ...   ...    ...\n",
       " 8755     12   31    19    0.0\n",
       " 8756     12   31    20    0.0\n",
       " 8757     12   31    21    0.0\n",
       " 8758     12   31    22    0.0\n",
       " 8759     12   31    23    0.0\n",
       " \n",
       " [8760 rows x 4 columns]}"
      ]
     },
     "execution_count": 25,
     "metadata": {},
     "output_type": "execute_result"
    }
   ],
   "source": [
    "# PV System Info\n",
    "pv_system = {'location':{\n",
    "\t\t'lat':38.897957,\n",
    "\t\t'lon':-77.036560},\n",
    "\t'specs':{\n",
    "\t\t'array_type':1, # Fixed axis\n",
    "\t\t'azimuth':180,\n",
    "\t\t'tilt':28.7,\n",
    "\t\t'losses':1}}\n",
    "\n",
    "wh_solar = SolarSimulator(pv_system)\n",
    "wh_solar.simulate_solar()"
   ]
  }
 ],
 "metadata": {
  "kernelspec": {
   "display_name": "Python 3.10.4 ('BTCsolar')",
   "language": "python",
   "name": "python3"
  },
  "language_info": {
   "codemirror_mode": {
    "name": "ipython",
    "version": 3
   },
   "file_extension": ".py",
   "mimetype": "text/x-python",
   "name": "python",
   "nbconvert_exporter": "python",
   "pygments_lexer": "ipython3",
   "version": "3.10.9"
  },
  "orig_nbformat": 4,
  "vscode": {
   "interpreter": {
    "hash": "88aea04b1d4a8a4b6539bceaf015f45ecbf8cddf5607d129cc8b4b46b5839a77"
   }
  }
 },
 "nbformat": 4,
 "nbformat_minor": 2
}
