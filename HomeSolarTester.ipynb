{
 "cells": [
  {
   "cell_type": "markdown",
   "metadata": {},
   "source": [
    "# Solar Solver\n",
    "\n",
    "Carlos Ortega"
   ]
  },
  {
   "cell_type": "code",
   "execution_count": 1,
   "metadata": {},
   "outputs": [],
   "source": [
    "# Custom Modules\n",
    "import SolarSimulator\n",
    "import HomeLoad\n",
    "import HomeSolarAssistant as hsa\n",
    "import HomeSolar\n",
    "\n",
    "# House Info\n",
    "house1 = {'name':'Horton House',\n",
    "\t'location':{\n",
    "\t\t'lat':33.392,\n",
    "\t\t'lon':-111.921},\n",
    "\t'specs':{\n",
    "\t\t'array_type':1,\n",
    "\t\t'azimuth':180,\n",
    "\t\t'tilt':28.7,\n",
    "\t\t'losses':1},\n",
    "\t'load_file':r'/home/carlos/Documents/Home Mining/Solar Solver/Load Data/meter data/Horton Load Data.csv'}\n",
    "\n",
    "house2 = {'name':'Ortega House',\n",
    "\t'location':{\n",
    "\t\t'lat':33.594,\n",
    "\t\t'lon':-111.77},\n",
    "\t'specs':{\n",
    "\t\t'array_type':1,\n",
    "\t\t'azimuth':180,\n",
    "\t\t'tilt':28.5,\n",
    "\t\t'losses':1},\n",
    "\t'load_file':r'/home/carlos/Documents/Home Mining/Solar Solver/Load Data/meter data/House Load Data.csv'}"
   ]
  },
  {
   "cell_type": "code",
   "execution_count": 2,
   "metadata": {},
   "outputs": [
    {
     "name": "stdout",
     "output_type": "stream",
     "text": [
      "\n",
      "Starting data download for solar using 1 thread workers.\n",
      "File already exists. Skipping download: /home/carlos/Documents/Home Mining/Solar Solver/data/PySAM Downloaded Weather Files/nsrdb_33.392_-111.921_psm3-tmy_60_tmy.csv\n",
      "Capacity: kW=1:1 Savngs: $23.85 Cost: $1,472.00 Payback: 5.14\n",
      "Capacity: kW=5:5 Savngs: $54.74 Cost: $7,360.00 Payback: 11.20\n",
      "Capacity: kW=5:7 Savngs: $63.94 Cost: $9,660.00 Payback: 12.59\n",
      "Capacity: kW=5:10 Savngs: $70.96 Cost: $13,110.00 Payback: 15.40\n",
      "Capacity: kW=7:7 Savngs: $64.16 Cost: $10,304.00 Payback: 13.38\n",
      "Capacity: kW=7:10 Savngs: $73.42 Cost: $13,754.00 Payback: 15.61\n",
      "Capacity: kW=7:12 Savngs: $77.37 Cost: $16,054.00 Payback: 17.29\n",
      "Capacity: kW=10:10 Savngs: $73.21 Cost: $14,720.00 Payback: 16.75\n",
      "Capacity: kW=10:12 Savngs: $77.08 Cost: $17,020.00 Payback: 18.40\n",
      "Capacity: kW=10:15 Savngs: $81.84 Cost: $20,470.00 Payback: 20.84\n",
      "Capacity: kW=10:20 Savngs: $87.36 Cost: $26,220.00 Payback: 25.01\n",
      "Capacity: kW=20:20 Savngs: $85.31 Cost: $29,440.00 Payback: 28.76\n",
      "Capacity: kW=20:25 Savngs: $88.63 Cost: $35,190.00 Payback: 33.09\n"
     ]
    }
   ],
   "source": [
    "horton = HomeSolar.HomeSolar(house1)\n",
    "horton.solar_solver()"
   ]
  },
  {
   "cell_type": "code",
   "execution_count": 3,
   "metadata": {},
   "outputs": [
    {
     "data": {
      "text/html": [
       "<div>\n",
       "<style scoped>\n",
       "    .dataframe tbody tr th:only-of-type {\n",
       "        vertical-align: middle;\n",
       "    }\n",
       "\n",
       "    .dataframe tbody tr th {\n",
       "        vertical-align: top;\n",
       "    }\n",
       "\n",
       "    .dataframe thead th {\n",
       "        text-align: right;\n",
       "    }\n",
       "</style>\n",
       "<table border=\"1\" class=\"dataframe\">\n",
       "  <thead>\n",
       "    <tr style=\"text-align: right;\">\n",
       "      <th></th>\n",
       "      <th>scenario</th>\n",
       "      <th>savings</th>\n",
       "      <th>cost</th>\n",
       "      <th>period</th>\n",
       "    </tr>\n",
       "  </thead>\n",
       "  <tbody>\n",
       "    <tr>\n",
       "      <th>0</th>\n",
       "      <td>kW=1:1</td>\n",
       "      <td>23.853861</td>\n",
       "      <td>1472.0</td>\n",
       "      <td>5.142424</td>\n",
       "    </tr>\n",
       "    <tr>\n",
       "      <th>1</th>\n",
       "      <td>kW=5:5</td>\n",
       "      <td>54.744650</td>\n",
       "      <td>7360.0</td>\n",
       "      <td>11.203530</td>\n",
       "    </tr>\n",
       "    <tr>\n",
       "      <th>2</th>\n",
       "      <td>kW=5:7</td>\n",
       "      <td>63.938004</td>\n",
       "      <td>9660.0</td>\n",
       "      <td>12.590321</td>\n",
       "    </tr>\n",
       "    <tr>\n",
       "      <th>3</th>\n",
       "      <td>kW=5:10</td>\n",
       "      <td>70.957589</td>\n",
       "      <td>13110.0</td>\n",
       "      <td>15.396521</td>\n",
       "    </tr>\n",
       "    <tr>\n",
       "      <th>4</th>\n",
       "      <td>kW=7:7</td>\n",
       "      <td>64.161668</td>\n",
       "      <td>10304.0</td>\n",
       "      <td>13.382861</td>\n",
       "    </tr>\n",
       "    <tr>\n",
       "      <th>5</th>\n",
       "      <td>kW=7:10</td>\n",
       "      <td>73.418421</td>\n",
       "      <td>13754.0</td>\n",
       "      <td>15.611432</td>\n",
       "    </tr>\n",
       "    <tr>\n",
       "      <th>6</th>\n",
       "      <td>kW=7:12</td>\n",
       "      <td>77.372178</td>\n",
       "      <td>16054.0</td>\n",
       "      <td>17.290884</td>\n",
       "    </tr>\n",
       "    <tr>\n",
       "      <th>7</th>\n",
       "      <td>kW=10:10</td>\n",
       "      <td>73.214632</td>\n",
       "      <td>14720.0</td>\n",
       "      <td>16.754392</td>\n",
       "    </tr>\n",
       "    <tr>\n",
       "      <th>8</th>\n",
       "      <td>kW=10:12</td>\n",
       "      <td>77.083276</td>\n",
       "      <td>17020.0</td>\n",
       "      <td>18.400014</td>\n",
       "    </tr>\n",
       "    <tr>\n",
       "      <th>9</th>\n",
       "      <td>kW=10:15</td>\n",
       "      <td>81.842037</td>\n",
       "      <td>20470.0</td>\n",
       "      <td>20.842997</td>\n",
       "    </tr>\n",
       "    <tr>\n",
       "      <th>10</th>\n",
       "      <td>kW=10:20</td>\n",
       "      <td>87.364948</td>\n",
       "      <td>26220.0</td>\n",
       "      <td>25.010030</td>\n",
       "    </tr>\n",
       "    <tr>\n",
       "      <th>11</th>\n",
       "      <td>kW=20:20</td>\n",
       "      <td>85.314877</td>\n",
       "      <td>29440.0</td>\n",
       "      <td>28.756219</td>\n",
       "    </tr>\n",
       "    <tr>\n",
       "      <th>12</th>\n",
       "      <td>kW=20:25</td>\n",
       "      <td>88.625092</td>\n",
       "      <td>35190.0</td>\n",
       "      <td>33.088823</td>\n",
       "    </tr>\n",
       "  </tbody>\n",
       "</table>\n",
       "</div>"
      ],
      "text/plain": [
       "    scenario    savings     cost     period\n",
       "0     kW=1:1  23.853861   1472.0   5.142424\n",
       "1     kW=5:5  54.744650   7360.0  11.203530\n",
       "2     kW=5:7  63.938004   9660.0  12.590321\n",
       "3    kW=5:10  70.957589  13110.0  15.396521\n",
       "4     kW=7:7  64.161668  10304.0  13.382861\n",
       "5    kW=7:10  73.418421  13754.0  15.611432\n",
       "6    kW=7:12  77.372178  16054.0  17.290884\n",
       "7   kW=10:10  73.214632  14720.0  16.754392\n",
       "8   kW=10:12  77.083276  17020.0  18.400014\n",
       "9   kW=10:15  81.842037  20470.0  20.842997\n",
       "10  kW=10:20  87.364948  26220.0  25.010030\n",
       "11  kW=20:20  85.314877  29440.0  28.756219\n",
       "12  kW=20:25  88.625092  35190.0  33.088823"
      ]
     },
     "execution_count": 3,
     "metadata": {},
     "output_type": "execute_result"
    }
   ],
   "source": [
    "horton.solar_savings"
   ]
  },
  {
   "cell_type": "code",
   "execution_count": null,
   "metadata": {},
   "outputs": [],
   "source": [
    "ortega = HomeSolar.HomeSolar(house2)\n",
    "ortega.solar_solver()"
   ]
  },
  {
   "cell_type": "code",
   "execution_count": 20,
   "metadata": {},
   "outputs": [],
   "source": [
    "import numpy as np"
   ]
  },
  {
   "cell_type": "code",
   "execution_count": 29,
   "metadata": {},
   "outputs": [
    {
     "data": {
      "text/plain": [
       "1715.2777777777778"
      ]
     },
     "execution_count": 29,
     "metadata": {},
     "output_type": "execute_result"
    }
   ],
   "source": [
    "def EVcharging(MPG,mi,rate = ['e21','e23','e26','e27p','e29','e13','e14','e15','e27']):\n",
    "\tfor i in rate:\n",
    "\t\tif i in ['e29','e14']:\n",
    "\t\t\tcharge_cost = np.sum(hsa.SRPrates[i]['superoff']*(4/12,2/12,6/12))\n",
    "\t\telif i == 'e23':\n",
    "\t\t\tcharge_cost = np.sum(hsa.SRPrates[i]['<2k']*(4/12,2/12,6/12))\n",
    "\t\telse:\n",
    "\t\t\tcharge_cost = np.sum(hsa.SRPrates[i]['off']*(4/12,2/12,6/12))\n",
    "\n",
    "\tcost = (mi/MPG)*charge_cost\n",
    "\treturn cost\n",
    "\n",
    "EVcharging(0.24,10000)"
   ]
  },
  {
   "cell_type": "code",
   "execution_count": 25,
   "metadata": {},
   "outputs": [
    {
     "data": {
      "text/html": [
       "<div>\n",
       "<style scoped>\n",
       "    .dataframe tbody tr th:only-of-type {\n",
       "        vertical-align: middle;\n",
       "    }\n",
       "\n",
       "    .dataframe tbody tr th {\n",
       "        vertical-align: top;\n",
       "    }\n",
       "\n",
       "    .dataframe thead th {\n",
       "        text-align: right;\n",
       "    }\n",
       "</style>\n",
       "<table border=\"1\" class=\"dataframe\">\n",
       "  <thead>\n",
       "    <tr style=\"text-align: right;\">\n",
       "      <th></th>\n",
       "      <th>season</th>\n",
       "      <th>&lt;2k</th>\n",
       "      <th>&gt;2k</th>\n",
       "      <th>service</th>\n",
       "    </tr>\n",
       "  </thead>\n",
       "  <tbody>\n",
       "    <tr>\n",
       "      <th>0</th>\n",
       "      <td>summer</td>\n",
       "      <td>0.1120</td>\n",
       "      <td>0.1163</td>\n",
       "      <td>20</td>\n",
       "    </tr>\n",
       "    <tr>\n",
       "      <th>1</th>\n",
       "      <td>summer peak</td>\n",
       "      <td>0.1186</td>\n",
       "      <td>0.1299</td>\n",
       "      <td>20</td>\n",
       "    </tr>\n",
       "    <tr>\n",
       "      <th>2</th>\n",
       "      <td>winter</td>\n",
       "      <td>0.0829</td>\n",
       "      <td>0.0000</td>\n",
       "      <td>20</td>\n",
       "    </tr>\n",
       "  </tbody>\n",
       "</table>\n",
       "</div>"
      ],
      "text/plain": [
       "        season     <2k     >2k  service\n",
       "0       summer  0.1120  0.1163       20\n",
       "1  summer peak  0.1186  0.1299       20\n",
       "2       winter  0.0829  0.0000       20"
      ]
     },
     "execution_count": 25,
     "metadata": {},
     "output_type": "execute_result"
    }
   ],
   "source": [
    "hsa.SRPrates['e23']"
   ]
  },
  {
   "cell_type": "code",
   "execution_count": 21,
   "metadata": {},
   "outputs": [
    {
     "data": {
      "text/plain": [
       "0.06315"
      ]
     },
     "execution_count": 21,
     "metadata": {},
     "output_type": "execute_result"
    }
   ],
   "source": [
    "np.sum(hsa.SRPrates['e29']['superoff']*(4/12,2/12,6/12))"
   ]
  },
  {
   "cell_type": "code",
   "execution_count": 14,
   "metadata": {},
   "outputs": [
    {
     "data": {
      "text/plain": [
       "dict_items([('e21',         season      on     off  service\n",
       "0       summer  0.2924  0.0858       20\n",
       "1  summer peak  0.3473  0.0882       20\n",
       "2       winter  0.1110  0.0785       20), ('e23',         season     <2k     >2k  service\n",
       "0       summer  0.1120  0.1163       20\n",
       "1  summer peak  0.1186  0.1299       20\n",
       "2       winter  0.0829  0.0000       20), ('e26',         season      on     off  service\n",
       "0       summer  0.2123  0.0756       20\n",
       "1  summer peak  0.2438  0.0759       20\n",
       "2       winter  0.0998  0.0738       20), ('e27p',         season      on     off  traunch1  traunch2  traunch3  service\n",
       "0       summer  0.0491  0.0389      7.89     14.37     27.28    32.44\n",
       "1  summer peak  0.0651  0.0441      9.43     17.51     33.59    32.44\n",
       "2       winter  0.0457  0.0417      3.49      9.57      9.57    32.44), ('e29',         season      on     off  superoff  service\n",
       "0       summer  0.2123  0.0794    0.0640       20\n",
       "1  summer peak  0.2438  0.0799    0.0643       20\n",
       "2       winter  0.0998  0.0784    0.0622       20), ('e13',         season      on     off  export  service\n",
       "0       summer  0.2123  0.0756  0.0281    32.44\n",
       "1  summer peak  0.2438  0.0759  0.0281    32.44\n",
       "2       winter  0.0998  0.0738  0.0281    32.44), ('e14',         season      on     off  superoff  export  service\n",
       "0       summer  0.2123  0.0794    0.0640  0.0281    32.44\n",
       "1  summer peak  0.2438  0.0799    0.0643  0.0281    32.44\n",
       "2       winter  0.0998  0.0784    0.0622  0.0281    32.44), ('e15',         season      on     off  demand  service\n",
       "0       summer  0.0491  0.0389   19.29    32.44\n",
       "1  summer peak  0.0651  0.0441   21.94    32.44\n",
       "2       winter  0.0457  0.0417    8.13    32.44), ('e27',         season      on     off  traunch1  traunch2  traunch3  service\n",
       "0       summer  0.0491  0.0389      7.89     14.37     27.28    32.44\n",
       "1  summer peak  0.0651  0.0441      9.43     17.51     33.59    32.44\n",
       "2       winter  0.0457  0.0417      3.49      9.57      9.57    32.44)])"
      ]
     },
     "execution_count": 14,
     "metadata": {},
     "output_type": "execute_result"
    }
   ],
   "source": [
    "rates.items()"
   ]
  },
  {
   "cell_type": "code",
   "execution_count": 10,
   "metadata": {},
   "outputs": [
    {
     "ename": "KeyError",
     "evalue": "0",
     "output_type": "error",
     "traceback": [
      "\u001b[0;31m---------------------------------------------------------------------------\u001b[0m",
      "\u001b[0;31mKeyError\u001b[0m                                  Traceback (most recent call last)",
      "\u001b[1;32m/home/carlos/Documents/Home Mining/Solar Solver/HomeSolarTester.ipynb Cell 7\u001b[0m in \u001b[0;36m<cell line: 1>\u001b[0;34m()\u001b[0m\n\u001b[1;32m      <a href='vscode-notebook-cell:/home/carlos/Documents/Home%20Mining/Solar%20Solver/HomeSolarTester.ipynb#X50sZmlsZQ%3D%3D?line=0'>1</a>\u001b[0m \u001b[39mfor\u001b[39;00m i \u001b[39min\u001b[39;00m \u001b[39mrange\u001b[39m(\u001b[39m0\u001b[39m,\u001b[39mlen\u001b[39m(rates)\u001b[39m-\u001b[39m\u001b[39m1\u001b[39m):\n\u001b[0;32m----> <a href='vscode-notebook-cell:/home/carlos/Documents/Home%20Mining/Solar%20Solver/HomeSolarTester.ipynb#X50sZmlsZQ%3D%3D?line=1'>2</a>\u001b[0m \t\u001b[39mprint\u001b[39m(rates[i])\n",
      "\u001b[0;31mKeyError\u001b[0m: 0"
     ]
    }
   ],
   "source": [
    "for i in range(0,len(rates)-1):\n",
    "\tprint(rates[i])"
   ]
  },
  {
   "cell_type": "code",
   "execution_count": 6,
   "metadata": {},
   "outputs": [
    {
     "data": {
      "text/html": [
       "<div>\n",
       "<style scoped>\n",
       "    .dataframe tbody tr th:only-of-type {\n",
       "        vertical-align: middle;\n",
       "    }\n",
       "\n",
       "    .dataframe tbody tr th {\n",
       "        vertical-align: top;\n",
       "    }\n",
       "\n",
       "    .dataframe thead th {\n",
       "        text-align: right;\n",
       "    }\n",
       "</style>\n",
       "<table border=\"1\" class=\"dataframe\">\n",
       "  <thead>\n",
       "    <tr style=\"text-align: right;\">\n",
       "      <th></th>\n",
       "      <th>season</th>\n",
       "      <th>on</th>\n",
       "      <th>off</th>\n",
       "      <th>traunch1</th>\n",
       "      <th>traunch2</th>\n",
       "      <th>traunch3</th>\n",
       "      <th>service</th>\n",
       "    </tr>\n",
       "  </thead>\n",
       "  <tbody>\n",
       "    <tr>\n",
       "      <th>0</th>\n",
       "      <td>summer</td>\n",
       "      <td>0.0491</td>\n",
       "      <td>0.0389</td>\n",
       "      <td>7.89</td>\n",
       "      <td>14.37</td>\n",
       "      <td>27.28</td>\n",
       "      <td>32.44</td>\n",
       "    </tr>\n",
       "    <tr>\n",
       "      <th>1</th>\n",
       "      <td>summer peak</td>\n",
       "      <td>0.0651</td>\n",
       "      <td>0.0441</td>\n",
       "      <td>9.43</td>\n",
       "      <td>17.51</td>\n",
       "      <td>33.59</td>\n",
       "      <td>32.44</td>\n",
       "    </tr>\n",
       "    <tr>\n",
       "      <th>2</th>\n",
       "      <td>winter</td>\n",
       "      <td>0.0457</td>\n",
       "      <td>0.0417</td>\n",
       "      <td>3.49</td>\n",
       "      <td>9.57</td>\n",
       "      <td>9.57</td>\n",
       "      <td>32.44</td>\n",
       "    </tr>\n",
       "  </tbody>\n",
       "</table>\n",
       "</div>"
      ],
      "text/plain": [
       "        season      on     off  traunch1  traunch2  traunch3  service\n",
       "0       summer  0.0491  0.0389      7.89     14.37     27.28    32.44\n",
       "1  summer peak  0.0651  0.0441      9.43     17.51     33.59    32.44\n",
       "2       winter  0.0457  0.0417      3.49      9.57      9.57    32.44"
      ]
     },
     "execution_count": 6,
     "metadata": {},
     "output_type": "execute_result"
    }
   ],
   "source": [
    "rates['e27p']"
   ]
  },
  {
   "cell_type": "code",
   "execution_count": null,
   "metadata": {},
   "outputs": [],
   "source": [
    "\t\t\tif rate == 'e27':\n",
    "\t\t\t\tbill['import_cost'] = (bill['import_off_kWh']*bill['off']) + (bill['import_on_kWh']*bill['on'])\n",
    "\t\t\t\tbill['export_cost'] = (bill['export_off_kWh']*bill['off']) + (bill['export_on_kWh']*bill['on'])*-1\n",
    "\t\t\t\tbill['demand'] = bill.apply(lambda x: hsa.demandcharge(x.kW,x.season,rate), axis=1).apply(np.sum,axis=1)\n",
    "\t\t\t\tbill[col] = (bill['demand']) + (bill['import_cost']) + (bill['export_cost']) + bill['service']\n",
    "\t\t\telif rate == 'e15':\n",
    "\t\t\t\tbill['import_cost'] = (bill['import_off_kWh']*bill['off']) + (bill['import_on_kWh']*bill['on'])\n",
    "\t\t\t\tbill['export_cost'] = (bill['export_off_kWh']*bill['off']) + (bill['export_on_kWh']*bill['on'])*-1\n",
    "\t\t\t\tbill['demand'] = bill.apply(lambda x: hsa.demandcharge(x.kW,x.season,rate), axis=1).apply(np.sum,axis=1)\n",
    "\t\t\t\tbill[col] = (bill['demand']) + (bill['import_cost']) + (bill['export_cost']) + bill['service']\n",
    "\t\t\telif rate == 'e14':\n",
    "\t\t\t\tbill['import_cost'] = (bill['import_off_kWh']*bill['off']) + (bill['import_on_kWh']*bill['on']) + (bill['import_superoff_kWh']*bill['superoff'])\n",
    "\t\t\t\tbill['export_cost'] = (bill['export_kWh']*bill['export'])*-1\n",
    "\t\t\t\tbill[col] = (bill['import_cost']) + (bill['export_cost']) + bill['service']\n",
    "\t\t\telse:\n",
    "\t\t\t\tbill['import_cost'] = (bill['import_off_kWh']*bill['off']) + (bill['import_on_kWh']*bill['on'])\n",
    "\t\t\t\tbill['export_cost'] = (bill['export_kWh']*bill['export'])*-1\n",
    "\t\t\t\tbill[col] = (bill['import_cost']) + (bill['export_cost']) + bill['service']\n",
    "\t\t\treturn bill[['yy','mo',col]]"
   ]
  }
 ],
 "metadata": {
  "kernelspec": {
   "display_name": "Python 3.10.4 ('BTCsolar')",
   "language": "python",
   "name": "python3"
  },
  "language_info": {
   "codemirror_mode": {
    "name": "ipython",
    "version": 3
   },
   "file_extension": ".py",
   "mimetype": "text/x-python",
   "name": "python",
   "nbconvert_exporter": "python",
   "pygments_lexer": "ipython3",
   "version": "3.9.12"
  },
  "orig_nbformat": 4,
  "vscode": {
   "interpreter": {
    "hash": "88aea04b1d4a8a4b6539bceaf015f45ecbf8cddf5607d129cc8b4b46b5839a77"
   }
  }
 },
 "nbformat": 4,
 "nbformat_minor": 2
}
